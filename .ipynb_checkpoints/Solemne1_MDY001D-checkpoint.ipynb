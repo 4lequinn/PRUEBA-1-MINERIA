{
 "cells": [
  {
   "cell_type": "markdown",
   "id": "d724bd51",
   "metadata": {},
   "source": [
    "# Evaluación Solemne 1\n",
    "## \"_Pronóstico del Clima en Australia_\""
   ]
  },
  {
   "cell_type": "markdown",
   "id": "93022584",
   "metadata": {},
   "source": [
    "###  - Asignatura : Minería de Datos.\n",
    "####  - Sección : MDY001D.\n",
    "####  - Docente : Luis Díaz."
   ]
  },
  {
   "cell_type": "markdown",
   "id": "4593a055",
   "metadata": {},
   "source": [
    "#### _Integrantes :_\n",
    "- _Joaquín Reyes._\n",
    "- _Jorge Quintui._\n",
    "- _José López._"
   ]
  },
  {
   "cell_type": "markdown",
   "id": "19043620",
   "metadata": {},
   "source": [
    "### EDA para Pronóstico del Clima\n",
    "#### - Parte 1: Análisis exploratorio de datos (EDA)\n",
    "- 1) Análisis de las características.\n",
    "- 2) Encontrar cualquier relación o tendencia considerando múltiples características.\n",
    "\n",
    "#### - Parte 2: Ingeniería de características y limpieza de datos:\n",
    "- 1) Agregar algunas características.\n",
    "- 2) Eliminación de funciones redundantes.\n",
    "- 3) Convertir características en forma adecuada para modelar.\n",
    "\n",
    "#### - Parte 3: Análisis:\n",
    "- 1) Responder a las preguntas planteadas.\n",
    "- 2) Análisis de gráficos.\n",
    "- 3) Propuesta de preguntas.\n",
    "\n",
    "#### - Parte 4: Exportación:\n",
    "- 1) Exportación del Dataframe procesado en un archivo csv y excel."
   ]
  },
  {
   "cell_type": "markdown",
   "id": "34afe844",
   "metadata": {},
   "source": [
    "## Acerca de los datos\n",
    "- Date: Fecha de la observación.\n",
    "- Location: El nombre común de la ubicación de la estación meteorológica.\n",
    "- MinTemp: La temperatura mínima en grados centígrados.\n",
    "- MaxTemp: La temperatura máxima en grados centígrados.\n",
    "- Rainfall: La cantidad de lluvia registrada para el día en mm.\n",
    "- Evaporation: Evaporación de la bandeja de clase A (mm) en las 24 horas a las 9 a.\n",
    "- Sunshine: Cantidad de horas de sol brillante en el día.\n",
    "- WindGustDir: Dirección de la ráfaga de viento más fuerte en 24 horas hasta la medianoche.\n",
    "- WindGustSpeed: Velocidad (km / h) de la ráfaga de viento más fuerte en 24 horas hasta la medianoche.\n",
    "- WindDir9am: Dirección del viento a las 9 am.\n",
    "- WindDir3pm: Dirección del viento a las 15 pm.\n",
    "- WindSpeed9am: Velocidad (km / h) del viento a las 9am.\n",
    "- WindSpeed3pm: Velocidad (km / h) del viento a las 15pm.\n",
    "- Humidity9am: Humedad (g/m3) del aire a las 9am. (g/m3 = gramos de agua por cada metro cúbico de \n",
    "  aire).\n",
    "- Humidity3pm: Humedad (g/m3) del aire a las 15pm. (g/m3 = gramos de agua por cada metro cúbico de \n",
    "  aire).\n",
    "- Pressure9am: Presión (pascales) del aire a las 9am. \n",
    "- Pressure15pm: Presión (pascales) del aire a las 15pm. \n",
    "- Cloud9am: Nubosidad (octas) del cielo a las 9am. (octas, a la parte de la bóveda celeste cubierta de nubes, \n",
    "  hasta un máximo de 8 para el cielo cubierto o entoldado).\n",
    "- Cloud15pm: Nubosidad (octas) del cielo a las 15pm. \n",
    "- Temp9am: Temperatura (C) a las 9am. \n",
    "- Temp15pm: Temperatura (C) a las 15pm. \n",
    "- RainToday: Si llueve más de 1mm en el día de la muestra. \n",
    "- RainTomorrow: predicción si lloverá más de 1 mm mañana."
   ]
  },
  {
   "cell_type": "code",
   "execution_count": null,
   "id": "e44eab38",
   "metadata": {},
   "outputs": [],
   "source": [
    "# Importación de las librerías necesarias\n",
    "import pandas as pd\n",
    "import numpy as np\n",
    "import matplotlib.pyplot as plt\n",
    "import seaborn as sns\n",
    "import warnings\n",
    "# Ignora las advertencias\n",
    "warnings.filterwarnings('ignore')\n",
    "# para que los gráficos aparezcan en la misma fila\n",
    "%matplotlib inline"
   ]
  },
  {
   "cell_type": "markdown",
   "id": "6713c084",
   "metadata": {},
   "source": [
    "## 1. Análisis Exploratorio de Datos"
   ]
  },
  {
   "cell_type": "markdown",
   "id": "34d7c3db",
   "metadata": {},
   "source": [
    "### 1.1 Carga de Datos"
   ]
  },
  {
   "cell_type": "code",
   "execution_count": null,
   "id": "a0d05aa7",
   "metadata": {},
   "outputs": [],
   "source": [
    "url_train = './dataset/weatherAUS.csv'\n",
    "df = pd.read_csv(url_train,sep=',')"
   ]
  },
  {
   "cell_type": "code",
   "execution_count": null,
   "id": "b092d883",
   "metadata": {},
   "outputs": [],
   "source": [
    "# Primeros 5 registros\n",
    "df.head()"
   ]
  },
  {
   "cell_type": "code",
   "execution_count": null,
   "id": "367b63d8",
   "metadata": {
    "scrolled": true
   },
   "outputs": [],
   "source": [
    "# Últimos 5 registros\n",
    "df.tail()"
   ]
  },
  {
   "cell_type": "code",
   "execution_count": null,
   "id": "6cc503b6",
   "metadata": {},
   "outputs": [],
   "source": [
    "# Muestra un registro al azar\n",
    "df.sample()"
   ]
  },
  {
   "cell_type": "code",
   "execution_count": null,
   "id": "3a269651",
   "metadata": {},
   "outputs": [],
   "source": [
    "# Vista general \n",
    "df"
   ]
  },
  {
   "cell_type": "markdown",
   "id": "d286d375",
   "metadata": {},
   "source": [
    "### 1.2 Tamaño del Dataset"
   ]
  },
  {
   "cell_type": "code",
   "execution_count": null,
   "id": "98531bb0",
   "metadata": {},
   "outputs": [],
   "source": [
    "df.shape"
   ]
  },
  {
   "cell_type": "markdown",
   "id": "7b0def17",
   "metadata": {},
   "source": [
    "### 1.3 Tipos de datos"
   ]
  },
  {
   "cell_type": "code",
   "execution_count": null,
   "id": "45cc03bf",
   "metadata": {},
   "outputs": [],
   "source": [
    "df.info()"
   ]
  },
  {
   "cell_type": "code",
   "execution_count": null,
   "id": "3003c56e",
   "metadata": {},
   "outputs": [],
   "source": [
    "df.dtypes"
   ]
  },
  {
   "cell_type": "markdown",
   "id": "d5dff796",
   "metadata": {},
   "source": [
    "### 1.4 Valores Nulos"
   ]
  },
  {
   "cell_type": "code",
   "execution_count": null,
   "id": "775285ec",
   "metadata": {},
   "outputs": [],
   "source": [
    "df.isnull().sum()"
   ]
  },
  {
   "cell_type": "code",
   "execution_count": null,
   "id": "61ef2302",
   "metadata": {
    "scrolled": true
   },
   "outputs": [],
   "source": [
    "for x in df.columns:\n",
    "    print('La cantidad de nulos de la columna', x, ' Es de ', df[x].isna().sum())"
   ]
  },
  {
   "cell_type": "markdown",
   "id": "0074143d",
   "metadata": {},
   "source": [
    "### 1.5 Características y Observaciones"
   ]
  },
  {
   "cell_type": "code",
   "execution_count": null,
   "id": "f92ac775",
   "metadata": {},
   "outputs": [],
   "source": [
    "for x in df.columns:\n",
    " print('El nombre de la característica es :',x)"
   ]
  },
  {
   "cell_type": "code",
   "execution_count": null,
   "id": "394eb477",
   "metadata": {},
   "outputs": [],
   "source": [
    "# ¿Qué columnas tienen los datos?\n",
    "df.columns"
   ]
  },
  {
   "cell_type": "code",
   "execution_count": null,
   "id": "392f2422",
   "metadata": {},
   "outputs": [],
   "source": [
    "# Cantidad de características\n",
    "df.shape[1]\n"
   ]
  },
  {
   "cell_type": "code",
   "execution_count": null,
   "id": "5b2ef1e4",
   "metadata": {},
   "outputs": [],
   "source": [
    "# Cantidad de observaciones\n",
    "df.shape[0]"
   ]
  },
  {
   "cell_type": "code",
   "execution_count": null,
   "id": "8924f20d",
   "metadata": {},
   "outputs": [],
   "source": [
    "# Cantidad de Características con datos Cualitativos / Categóricos \n",
    "\n",
    " # Agrupación de las columnas por tipo de datos\n",
    "tipos = df.columns.to_series().groupby(df.dtypes).groups\n",
    "\n",
    "ctext = tipos[np.dtype('object')]\n",
    "len(ctext)"
   ]
  },
  {
   "cell_type": "code",
   "execution_count": null,
   "id": "3c563503",
   "metadata": {},
   "outputs": [],
   "source": [
    "# Cantidad de características con datos Cuantitativos / Numéricos\n",
    "\n",
    "columnas = df.columns\n",
    "cnum = list(set(columnas) - set(ctext))\n",
    "len(cnum)"
   ]
  },
  {
   "cell_type": "markdown",
   "id": "7bf184a9",
   "metadata": {},
   "source": [
    "### 1.6 Medidas Estadísticas Básicas"
   ]
  },
  {
   "cell_type": "code",
   "execution_count": null,
   "id": "ee596bf2",
   "metadata": {},
   "outputs": [],
   "source": [
    "# Cómo se distribuyen las variables numéricas\n",
    "df.describe()"
   ]
  },
  {
   "cell_type": "code",
   "execution_count": null,
   "id": "8cbb25c4",
   "metadata": {
    "scrolled": false
   },
   "outputs": [],
   "source": [
    "# Cómo se comportan las variables categóricas\n",
    "df.describe(include = 'object')"
   ]
  },
  {
   "cell_type": "code",
   "execution_count": null,
   "id": "8160cd87",
   "metadata": {},
   "outputs": [],
   "source": [
    "# Variables cuantitativas y cualitativas.\n",
    "df.describe(include = 'all')"
   ]
  },
  {
   "cell_type": "markdown",
   "id": "576acd68",
   "metadata": {},
   "source": [
    "### 1.7 Datos Únicos"
   ]
  },
  {
   "cell_type": "code",
   "execution_count": null,
   "id": "f163b9ca",
   "metadata": {},
   "outputs": [],
   "source": [
    "# Datos únicos de location\n",
    "df[\"Location\"].unique()"
   ]
  },
  {
   "cell_type": "markdown",
   "id": "74a67a4a",
   "metadata": {},
   "source": [
    "### 2. Preprocesamiento de los datos\n",
    "- Convertir algunas variables continuas en rangos.\n",
    "- Convertir valores String en valores númericos.\n",
    "- Eliminar características innecesarias.\n",
    "- Corregir valores nulos."
   ]
  },
  {
   "cell_type": "markdown",
   "id": "a166cac7",
   "metadata": {},
   "source": [
    "Variables Relevantes:\n",
    "- Date\n",
    "- RainTomorrow\n",
    "- RainToday\n",
    "- Location\n",
    "- MinTemp          \n",
    "- MaxTemp          \n",
    "- Pressure9am      \n",
    "- Temp3pm          \n",
    "- Rainfall         \n",
    "- Humidity9am      \n",
    "- WindSpeed9am     \n",
    "\n"
   ]
  },
  {
   "cell_type": "markdown",
   "id": "a903f2e1",
   "metadata": {},
   "source": [
    "#### 2.1 Creamos un respaldo del DataFrame"
   ]
  },
  {
   "cell_type": "code",
   "execution_count": null,
   "id": "96cd24ea",
   "metadata": {},
   "outputs": [],
   "source": [
    "# Respaldo para limpieza y Transformación\n",
    "df2 = df"
   ]
  },
  {
   "cell_type": "code",
   "execution_count": null,
   "id": "ed853c39",
   "metadata": {},
   "outputs": [],
   "source": [
    "df2.isnull().sum()"
   ]
  },
  {
   "cell_type": "markdown",
   "id": "940deb68",
   "metadata": {},
   "source": [
    "#### 2.2 Transformación De Datos Nulos  \n",
    "- Se puede contactar con la persona que recopiló los datos, si puede entregarnos los datos faltantes.\n",
    "- Se puede eliminar los registros con datos faltantes.\n",
    "- Se pueden reemplazar los datos calculando el valor promedio de la variable completa.\n",
    "- Se pueden dejar los datos faltantes como están.\n"
   ]
  },
  {
   "cell_type": "markdown",
   "id": "1b54ef36",
   "metadata": {},
   "source": [
    "### Decisión\n",
    "- **No** es factible eliminar los registros nulos, se pierden muchos datos.\n",
    "- **No** se pueden solicitar los datos faltantes."
   ]
  },
  {
   "cell_type": "markdown",
   "id": "ed4cecea",
   "metadata": {},
   "source": [
    "#### Al ser muchos los datos perdidos podemos dejarlos como están o bien imputarlos por el promedio de la variable completa. \n",
    "\n",
    "### 1. Para las variables cuantitativas :\n",
    "#### Debido a que no queremos sesgar el modelo de entrenamiento, vamos a evaluar el coeficiente de variación.\n",
    "#### Sólo si la media aritmética es representativa se usará el valor promedio, de lo contrario se reemplazará por 0.\n",
    "- Si el coeficiente de variación tiende a 0 consideraremos el promedio como reemplazo.\n",
    "- Si el coeficiente de variación tiende a 1 **NO** consideraremos el promedio como reemplazo.\n",
    "\n",
    "### 2. Para la variables Cualitativas:\n",
    "#### Se reemplazará el valor por la moda debido a que no son demasiados datos en comparación a las variables cuantitativas."
   ]
  },
  {
   "cell_type": "code",
   "execution_count": null,
   "id": "0dc5dd14",
   "metadata": {},
   "outputs": [],
   "source": [
    "# Función que calcula de un conjunto de datos la desviación estándar\n",
    "# {param} conjunto list\n",
    "# {return} double\n",
    "\n",
    "def calcularDesviacionStandar(conjunto):\n",
    "    print(\"Desviación estándar : \", np.std(conjunto))\n",
    "    return np.std(conjunto)\n",
    "\n",
    "# Función que calcula el coeficiente de variación de un conjunto de datos\n",
    "# {param} devest double \n",
    "# {param} mean double\n",
    "# {return} double\n",
    "def calcularCoeficienteVariacion(devest, mean):\n",
    "    print(\"Coeficiente de variación : \", devest/mean)\n",
    "    return devest/mean"
   ]
  },
  {
   "cell_type": "code",
   "execution_count": null,
   "id": "b0630e56",
   "metadata": {},
   "outputs": [],
   "source": [
    "# Completando valores faltantes datos cuantititavos\n",
    "for columna in cnum:\n",
    "    mean = round(df2[columna].mean(),1)\n",
    "    devest = calcularDesviacionStandar(df2[columna])\n",
    "    cv = calcularCoeficienteVariacion(devest,mean)\n",
    "    # Evaluamos si es representativo el promedio\n",
    "    if cv < 0.5 :\n",
    "        # Coeficiente de variación que tiende a 0.\n",
    "        # Reemplazamos el valor NULL por el promedio debido a que es representativo.\n",
    "        df2[columna] = df2[columna].fillna(mean)    \n",
    "    else :\n",
    "        # Coeficiente de variación que tiende a 1.\n",
    "        # Reemplazamos el valor NULL por un 0 debido a que el promedio no es representativo, los datos están muy dispersos.\n",
    "        df2[columna] = df2[columna].fillna(0) "
   ]
  },
  {
   "cell_type": "code",
   "execution_count": null,
   "id": "184981f4",
   "metadata": {},
   "outputs": [],
   "source": [
    "#Completando valores faltantes datos categóricos\n",
    "for columna in ctext:\n",
    "    # Buscamos la moda en los valores categóricos del dataframe\n",
    "    mode = df2[columna].mode()[0]\n",
    "    print(\"Moda :\",mode, \" de la característica \" , columna)\n",
    "    df2[columna] = df2[columna].fillna(mode)"
   ]
  },
  {
   "cell_type": "code",
   "execution_count": null,
   "id": "5d9ade67",
   "metadata": {},
   "outputs": [],
   "source": [
    " # Corroboramos si hay nulos en el dataframe\n",
    "if(df2.isnull().any().any()):\n",
    "    print('Hay valores nulos.')\n",
    "else: \n",
    "    print('No hay valores nulos.')\n"
   ]
  },
  {
   "cell_type": "code",
   "execution_count": null,
   "id": "6c0adcfd",
   "metadata": {},
   "outputs": [],
   "source": [
    "df2.isnull().sum()"
   ]
  },
  {
   "cell_type": "code",
   "execution_count": null,
   "id": "50ab1bfd",
   "metadata": {},
   "outputs": [],
   "source": [
    "# Respaldo del dataframe\n",
    "df3 = df2"
   ]
  },
  {
   "cell_type": "markdown",
   "id": "e5bf7a03",
   "metadata": {},
   "source": [
    "#### 2.2 Limpieza y Transformación De Datos"
   ]
  },
  {
   "cell_type": "markdown",
   "id": "6901e96c",
   "metadata": {},
   "source": [
    "- Variables Categóricas a números"
   ]
  },
  {
   "cell_type": "code",
   "execution_count": null,
   "id": "4b0e531b",
   "metadata": {
    "scrolled": true
   },
   "outputs": [],
   "source": [
    "# Variable Categórica RainTomorrow\n",
    "# Reemplazamos los datos a números con la función dummies de pandas\n",
    "# Sólo consideramos 1 columna\n",
    "df2 = pd.get_dummies(df2,columns = ['RainTomorrow'], drop_first = True)\n",
    "df2.sample()"
   ]
  },
  {
   "cell_type": "code",
   "execution_count": null,
   "id": "46bb2cb4",
   "metadata": {
    "scrolled": true
   },
   "outputs": [],
   "source": [
    "# Variable Categórica RainToday\n",
    "# Reemplazamos los datos a números con la función dummies de pandas\n",
    "# Sólo consideramos 1 columna\n",
    "df2 = pd.get_dummies(df2,columns = ['RainToday'], drop_first = True)\n",
    "df2.sample()"
   ]
  },
  {
   "cell_type": "code",
   "execution_count": null,
   "id": "c7f53cfa",
   "metadata": {},
   "outputs": [],
   "source": [
    "# Variable Categórica Date\n",
    "# Parseamos la variable de la fecha a datetime para utilizar sus propiedades\n",
    "# Establecemos como indíce del dataframe porque es el identificador de los días\n",
    "df2['Date'] = pd.to_datetime(df2.Date)\n",
    "df2.set_index('Date',inplace = True)"
   ]
  },
  {
   "cell_type": "code",
   "execution_count": null,
   "id": "84ce991b",
   "metadata": {},
   "outputs": [],
   "source": [
    "# Importamos la librería LabelEncoder de sklearn.preprocessing\n",
    "from sklearn.preprocessing import LabelEncoder\n",
    "\n",
    "# Creamos una instancia de labelEncoder\n",
    "le = LabelEncoder()"
   ]
  },
  {
   "cell_type": "code",
   "execution_count": null,
   "id": "95ec1412",
   "metadata": {},
   "outputs": [],
   "source": [
    "# Variable Categórica location\n",
    "\n",
    "# Convertimos el dataframe a un numpy.ndarray\n",
    "x = df2.iloc[:,:].values\n",
    "\n",
    "print(type(x))\n",
    "\n",
    "# Buscamos los valores únicos de la columna Location\n",
    "pd.DataFrame(x)[0].unique()"
   ]
  },
  {
   "cell_type": "code",
   "execution_count": null,
   "id": "d43fd20e",
   "metadata": {},
   "outputs": [],
   "source": [
    "# Transformar las estaciones\n",
    "df2['Location_encoder'] = le.fit_transform(df2.Location.values)\n",
    "df2.tail(3)"
   ]
  },
  {
   "cell_type": "code",
   "execution_count": null,
   "id": "b9c930d1",
   "metadata": {},
   "outputs": [],
   "source": [
    "# Obtenemos los valores de las estaciones y su codificación\n",
    "location = le.inverse_transform(df2.Location_encoder.values)\n",
    "locationEncoder = df2.Location_encoder.values\n",
    "\n",
    "# Parseamos los arreglos a listas\n",
    "listaClave = np.unique(locationEncoder).tolist()\n",
    "listaValor = np.unique(location).tolist()\n",
    "\n",
    "# Imprimimos la clave y valor de cada Estación codificada\n",
    "diccionarioLocation = []\n",
    "for i in range(len(listaClave)):\n",
    "    diccionario = {'Clave':i,'Valor': listaValor[i]}\n",
    "    diccionarioLocation.append(diccionario)\n",
    "\n",
    "data = pd.DataFrame(diccionarioLocation)\n",
    "data.set_index('Clave',inplace = True)\n",
    "\n",
    "data\n"
   ]
  },
  {
   "cell_type": "markdown",
   "id": "42f232a8",
   "metadata": {},
   "source": [
    "- Variables Continuas en rangos"
   ]
  },
  {
   "cell_type": "code",
   "execution_count": null,
   "id": "090aae3f",
   "metadata": {},
   "outputs": [],
   "source": [
    "# Importamos la librería Math\n",
    "import math"
   ]
  },
  {
   "cell_type": "code",
   "execution_count": null,
   "id": "2c307738",
   "metadata": {},
   "outputs": [],
   "source": [
    "# Creamos funciones para agrupar datos en intervalos\n",
    "\n",
    "# Función que calcula el total de datos, valor mínimo, máximo, n° Intervalos y amplitud de intervalo\n",
    "# {param} dataFrame dataFrame pandas.core.frame.DataFrame\n",
    "# {param} caracteristica string\n",
    "# {return} list\n",
    "\n",
    "def calculosBasicos(dataFrame, caracteristica):\n",
    "    \n",
    "    # 1. Calculamos el total de datos\n",
    "    total = dataFrame[caracteristica].count()\n",
    "    print('Total de observaciones : ', total)\n",
    "\n",
    "    # 2. Cálculamos el valor mínimo\n",
    "    valor_max = dataFrame[caracteristica].max()\n",
    "    print(\"Máxima : \" , valor_max)\n",
    "\n",
    "    # 3. Cálculamos el valor máximo\n",
    "    valor_min = dataFrame[caracteristica].min()\n",
    "    print(\"Mínima : \" , valor_min)\n",
    "\n",
    "    # 4. Cálculamos los intervalos con la regla de Sturges\n",
    "    n_intervalos = round(1 + 3.322 * math.log(total,10))\n",
    "    print(\"Número de intervalos : \" , n_intervalos)\n",
    "\n",
    "    # 5. Cálculamos la amplitud de intervalo\n",
    "    a_intervalo = math.ceil((valor_max - valor_min) / n_intervalos)\n",
    "    print('Amplitud de intervalo : ' , a_intervalo)\n",
    "    \n",
    "    lista = [total , valor_max , valor_min, n_intervalos, a_intervalo]\n",
    "    \n",
    "    return lista\n",
    "\n",
    "# Función que calcula automáticamente todos los rangos para agrupar en intervalos\n",
    "# {param} valor_minimo int\n",
    "# {param} amplitud int\n",
    "# {param} intervalos int\n",
    "# return list\n",
    "\n",
    "def calcularRangos(valor_minimo,amplitud,intervalos):\n",
    "    lim_inf = valor_minimo\n",
    "    lista_rangos = []\n",
    "    for x in range(intervalos):\n",
    "        lim_sup = lim_inf + amplitud\n",
    "        rango = {x : {'lim_inf' : lim_inf , 'lim_sup' : lim_sup}}\n",
    "        lista_rangos.append(rango)\n",
    "        print(\"Intervalo :\", x, \"Límite Inferior :\",lim_inf,\"Límite Superior :\",lim_sup)\n",
    "        lim_inf = lim_sup\n",
    "    return lista_rangos\n",
    "\n",
    "# Función que retorna el límite inferior y superior de un intervalo\n",
    "# {param} index int\n",
    "# {param} listDict list\n",
    "# {return} list\n",
    "\n",
    "def limites(index, listDict):\n",
    "    lim_inf = listDict[index].get(index).get('lim_inf')\n",
    "    lim_sup = listDict[index].get(index).get('lim_sup')\n",
    "    lista = [lim_inf, lim_sup]\n",
    "    return lista\n",
    "\n",
    "\n",
    "# Función que crea automáticamente una nueva característica en un dataframe agrupando datos por intervalos\n",
    "# {param} listaRangos list\n",
    "# {param} dataFrame pandas.core.frame.DataFrame\n",
    "# {param} caracteristica string\n",
    "# {param} nombreRango string\n",
    "\n",
    "def agruparIntervarlos(dataFrame, caracteristica, nombreRango):\n",
    "    basicos = calculosBasicos(dataFrame,caracteristica)\n",
    "    listaRangos = calcularRangos(basicos[2],basicos[4],basicos[3])\n",
    "    dataFrame[nombreRango] = 0\n",
    "    for x in range(len(listaRangos)):\n",
    "        if x == 0:\n",
    "            dataFrame.loc[(dataFrame[caracteristica] >= limites(x,listaRangos)[0] ) & (dataFrame[caracteristica] <= limites(x,listaRangos)[1]) , nombreRango] = x\n",
    "        else:\n",
    "            dataFrame.loc[ (dataFrame[caracteristica] > limites(x,listaRangos)[0]) & (dataFrame[caracteristica] <= limites(x,listaRangos)[1]) , nombreRango] = x\n",
    "  "
   ]
  },
  {
   "cell_type": "markdown",
   "id": "d1ee823f",
   "metadata": {},
   "source": [
    "**_Variable Continua MinTemp_**"
   ]
  },
  {
   "cell_type": "code",
   "execution_count": null,
   "id": "aabb45ae",
   "metadata": {},
   "outputs": [],
   "source": [
    "# Establecer rangos para agrupar\n",
    "# Binning o Normalización\n",
    "agruparIntervarlos(df2, 'MinTemp','rango_temp_min')"
   ]
  },
  {
   "cell_type": "code",
   "execution_count": null,
   "id": "ceb257c4",
   "metadata": {},
   "outputs": [],
   "source": [
    "df2['rango_temp_min'].head()"
   ]
  },
  {
   "cell_type": "markdown",
   "id": "cf09e0fc",
   "metadata": {},
   "source": [
    "**_Variable Continua MaxTemp_**"
   ]
  },
  {
   "cell_type": "code",
   "execution_count": null,
   "id": "d452caac",
   "metadata": {},
   "outputs": [],
   "source": [
    "# Establecer rangos para agrupar\n",
    "# Binning o Normalización\n",
    "agruparIntervarlos(df2, 'MaxTemp','rango_temp_max')"
   ]
  },
  {
   "cell_type": "code",
   "execution_count": null,
   "id": "b0771916",
   "metadata": {},
   "outputs": [],
   "source": [
    "df2['rango_temp_max'].head()"
   ]
  },
  {
   "cell_type": "markdown",
   "id": "752c7653",
   "metadata": {},
   "source": [
    "**_Variable Continua Pressure9am_**"
   ]
  },
  {
   "cell_type": "code",
   "execution_count": null,
   "id": "87a164e7",
   "metadata": {},
   "outputs": [],
   "source": [
    "# Establecer rangos para agrupar\n",
    "# Binning o Normalización\n",
    "agruparIntervarlos(df2, 'Pressure9am','rango_pres_9am')"
   ]
  },
  {
   "cell_type": "code",
   "execution_count": null,
   "id": "4cf57493",
   "metadata": {},
   "outputs": [],
   "source": [
    "df2['rango_pres_9am'].head()"
   ]
  },
  {
   "cell_type": "markdown",
   "id": "7545baa1",
   "metadata": {},
   "source": [
    "**_Variable Continua Temp3pm_**"
   ]
  },
  {
   "cell_type": "code",
   "execution_count": null,
   "id": "94eddd63",
   "metadata": {},
   "outputs": [],
   "source": [
    "# Establecer rangos para agrupar\n",
    "# Binning o Normalización\n",
    "agruparIntervarlos(df2, 'Temp3pm','rango_temp_3pm')"
   ]
  },
  {
   "cell_type": "code",
   "execution_count": null,
   "id": "bbfb56e3",
   "metadata": {},
   "outputs": [],
   "source": [
    "df2['rango_temp_3pm'].head()"
   ]
  },
  {
   "cell_type": "markdown",
   "id": "93fd5a94",
   "metadata": {},
   "source": [
    "**_Variable Continua Rainfall_**"
   ]
  },
  {
   "cell_type": "code",
   "execution_count": null,
   "id": "20ecfbf9",
   "metadata": {},
   "outputs": [],
   "source": [
    "# Establecer rangos para agrupar\n",
    "# Binning o Normalización\n",
    "agruparIntervarlos(df2, 'Rainfall','rango_rainfall')"
   ]
  },
  {
   "cell_type": "code",
   "execution_count": null,
   "id": "7177dc8c",
   "metadata": {},
   "outputs": [],
   "source": [
    "df2['rango_rainfall'].head()"
   ]
  },
  {
   "cell_type": "markdown",
   "id": "1f8caabf",
   "metadata": {},
   "source": [
    "**_Variable Continua Humidity9am_**"
   ]
  },
  {
   "cell_type": "code",
   "execution_count": null,
   "id": "f3c8fd60",
   "metadata": {},
   "outputs": [],
   "source": [
    "# Establecer rangos para agrupar\n",
    "# Binning o Normalización\n",
    "agruparIntervarlos(df2, 'Humidity9am','rango_hum_9am')"
   ]
  },
  {
   "cell_type": "code",
   "execution_count": null,
   "id": "2f5f1845",
   "metadata": {},
   "outputs": [],
   "source": [
    "df2['rango_hum_9am'].head()"
   ]
  },
  {
   "cell_type": "markdown",
   "id": "9f8b9308",
   "metadata": {},
   "source": [
    "**_Variable Continua WindSpeed9am_**"
   ]
  },
  {
   "cell_type": "code",
   "execution_count": null,
   "id": "daf1b360",
   "metadata": {},
   "outputs": [],
   "source": [
    "# Establecer rangos para agrupar\n",
    "# Binning o Normalización\n",
    "agruparIntervarlos(df2, 'WindSpeed9am','rango_wind_9am')"
   ]
  },
  {
   "cell_type": "code",
   "execution_count": null,
   "id": "887cc658",
   "metadata": {},
   "outputs": [],
   "source": [
    "df2['rango_wind_9am'].head()"
   ]
  },
  {
   "cell_type": "markdown",
   "id": "08f82288",
   "metadata": {},
   "source": [
    "#### 2.3 Eliminamos características irrelevantes del Modelo"
   ]
  },
  {
   "cell_type": "markdown",
   "id": "de671b4e",
   "metadata": {},
   "source": [
    " - Location -> Tenemos la columna Location_encoder, por lo que es innecesario.\n",
    " - MinTemp -> Tenemos la columna rango_temp_min, por lo que es innecesario.  \n",
    " - MaxTemp -> Tenemos la columna rango_temp_max, por lo que es innecesario.        \n",
    " - Rainfall -> Tenemos la columna rango_rainfall, por lo que es innecesario.\n",
    " - Evaporation -> No nos aporta información útil para lo que se quiere analizar en nuestro modelo de entrenamiento.\n",
    " - Sunshine -> No nos aporta información útil para lo que se quiere analizar en nuestro modelo de entrenamiento.      \n",
    " - WindGustDir -> No nos aporta información útil para lo que se quiere analizar en nuestro modelo de entrenamiento.    \n",
    " - WindGustSpeed -> No nos aporta información útil para lo que se quiere analizar en nuestro modelo de entrenamiento.  \n",
    " - WindDir9am -> No nos aporta información útil para lo que se quiere analizar en nuestro modelo de entrenamiento.      \n",
    " - WindDir3pm -> No nos aporta información útil para lo que se quiere analizar en nuestro modelo de entrenamiento.      \n",
    " - WindSpeed9am Tenemos la columna rango_wind_9am, por lo que es innecesario.  \n",
    " - WindSpeed3pm -> No nos aporta información útil para lo que se quiere analizar en nuestro modelo de entrenamiento.   \n",
    " - Humidity9am Tenemos la columna rango_hum_9am, por lo que es innecesario.    \n",
    " - Humidity3pm -> No nos aporta información útil para lo que se quiere analizar en nuestro modelo de entrenamiento.    \n",
    " - Pressure9am Tenemos la columna rango_pres_9am, por lo que es innecesario.   \n",
    " - Pressure3pm -> No nos aporta información útil para lo que se quiere analizar en nuestro modelo de entrenamiento.    \n",
    " - Cloud9am -> No nos aporta información útil para lo que se quiere analizar en nuestro modelo de entrenamiento.       \n",
    " - Cloud3pm -> No nos aporta información útil para lo que se quiere analizar en nuestro modelo de entrenamiento.       \n",
    " - Temp9am -> No nos aporta información útil para lo que se quiere analizar en nuestro modelo de entrenamiento.        \n",
    " - Temp3pm -> No nos aporta información útil para lo que se quiere analizar en nuestro modelo de entrenamiento.               \n",
    " - RISK_MM -> No nos aporta información útil para lo que se quiere analizar en nuestro modelo de entrenamiento.         "
   ]
  },
  {
   "cell_type": "code",
   "execution_count": null,
   "id": "679c972c",
   "metadata": {},
   "outputs": [],
   "source": [
    "df2.drop(['RISK_MM','Location','Temp3pm','Temp9am','Cloud3pm','Cloud9am','Pressure3pm','Pressure9am','Humidity3pm','Humidity9am','MinTemp','MaxTemp','Rainfall','Evaporation','Sunshine','WindGustDir','WindGustSpeed','WindDir9am','WindDir3pm','WindSpeed9am','WindSpeed3pm'], axis = 1 , inplace = True)"
   ]
  },
  {
   "cell_type": "code",
   "execution_count": null,
   "id": "b5269c34",
   "metadata": {},
   "outputs": [],
   "source": [
    "df2.head(3)"
   ]
  },
  {
   "cell_type": "code",
   "execution_count": null,
   "id": "d20e645e",
   "metadata": {},
   "outputs": [],
   "source": [
    "df2.count()"
   ]
  },
  {
   "cell_type": "code",
   "execution_count": null,
   "id": "f8dbf438",
   "metadata": {},
   "outputs": [],
   "source": [
    "# Agrupa por tiempo\n",
    "df2.groupby(df2.index.month).head()"
   ]
  },
  {
   "cell_type": "markdown",
   "id": "d6260934",
   "metadata": {},
   "source": [
    "## 3. Análisis"
   ]
  },
  {
   "cell_type": "code",
   "execution_count": null,
   "id": "ff3ba7d3",
   "metadata": {},
   "outputs": [],
   "source": [
    "## Creamos métodos para construir gráficos\n",
    "def getGraficoBarras1(xvalues,yvalues,xlabel,ylabel,title,leyenda,color = '#DC29F1'):\n",
    "    valores = yvalues\n",
    "    etiquetas = xvalues\n",
    "    co = np.arange(len(valores))\n",
    "    an = 0.20\n",
    "    fig, ax = plt.subplots(figsize = (18,6))\n",
    "    ax.bar(co,valores,an, label = leyenda,color = color, edgecolor = \"black\")\n",
    "    for i,j in zip(co, valores):\n",
    "        ax.annotate(j,xy=(i , 10),color=\"white\")\n",
    "    ax.set_xticks(co)\n",
    "    ax.set_xticklabels(etiquetas)\n",
    "    ax.set_title(title, fontdict={'family': 'serif', \n",
    "                        'color' : 'black',\n",
    "                        'weight': 'bold',\n",
    "                        'size': 16})\n",
    "    ax.set_xlabel(xlabel, fontdict={'family': 'serif', \n",
    "                        'color' : 'black',\n",
    "                        'weight': 'bold',\n",
    "                        'size': 12})\n",
    "    ax.set_ylabel(ylabel, fontdict={'family': 'serif', \n",
    "                        'color' : 'black',\n",
    "                        'weight': 'bold',\n",
    "                        'size': 12})\n",
    "    plt.legend(loc='upper right')\n",
    "\n",
    "def getGraficoBarras2(tags,values,xlabel,ylabel,title):\n",
    "    plt.barh(range(len(tags)), values, edgecolor = \"black\")\n",
    "    plt.yticks(range(len(tags)),tags,rotation = 60)\n",
    "    plt.xlim(min(values) - 1 , max(values) + 1)\n",
    "    plt.title(title, fontdict={'family': 'serif', \n",
    "                        'color' : 'black',\n",
    "                        'weight': 'bold',\n",
    "                        'size': 16})\n",
    "    plt.xlabel(xlabel, fontdict={'family': 'serif', \n",
    "                        'color' : 'black',\n",
    "                        'weight': 'bold',\n",
    "                        'size': 12})\n",
    "    plt.ylabel(ylabel, fontdict={'family': 'serif', \n",
    "                        'color' : 'black',\n",
    "                        'weight': 'bold',\n",
    "                        'size': 12})\n",
    "    plt.show()\n",
    "\n",
    "def getGraficoPie1(dataframe,feature,labels,title,colors = [\"#EE6055\",\"#60D394\",\"#AAF683\",\"#FFD97D\",\"#FF9B85\"]):\n",
    "    f, ax = plt.subplots(figsize = (18,8))\n",
    "    dataframe[feature].value_counts().plot.pie(autopct = '%1.1f%%' , ax = ax, explode = [0, 0.1], shadow = True, labels=labels,colors = colors)\n",
    "    # Cambiamos el título del gráfico\n",
    "    ax.set_title(title) \n",
    "    ax.set_ylabel('')\n",
    "\n",
    "\n",
    "def getGraficoLineas1(x,y,xlabel,ylabel,title):\n",
    "    plt.figure(figsize=(10, 6))\n",
    "    plt.plot(x, y, \"r\")\n",
    "    plt.xlabel(xlabel, size = 16,)\n",
    "    plt.ylabel(ylabel, size = 16)\n",
    "\n",
    "    plt.title(title, \n",
    "            fontdict={'family': 'serif', \n",
    "                        'color' : 'black',\n",
    "                        'weight': 'bold',\n",
    "                        'size': 16})\n",
    "\n",
    "    plt.grid(True)\n",
    "    plt.show()\n",
    "\n",
    "\n",
    "def getGraficoDispersion1(x,y,xlabel,ylabel,title):\n",
    "    sns.scatterplot(data=[x,y])\n",
    "    plt.xlabel(xlabel)\n",
    "    plt.ylabel(ylabel)\n",
    "    plt.title(title)\n",
    "    plt.show()\n",
    "\n",
    "def getGraficoHistograma1(x):\n",
    "    sns.displot(x)\n",
    "    plt.show()\n"
   ]
  },
  {
   "cell_type": "markdown",
   "id": "d5e2e45e",
   "metadata": {},
   "source": [
    "### 1. ¿Cuál es la diferencia de presión entre el rango mínimo y el máximo que se produce a las 9am?"
   ]
  },
  {
   "cell_type": "code",
   "execution_count": null,
   "id": "75b99a76",
   "metadata": {},
   "outputs": [],
   "source": [
    "rango = df3.Pressure9am.max() - df3.Pressure9am.min()\n",
    "print(\"La diferencia de presión entre el rango mínimo y máximo que se produce a las 9am es de\" , rango, \"pascales.\")\n",
    "getGraficoBarras1([\"Presión Mínima\",\"Presión Máxima\"],[df3.Pressure9am.min().tolist(), df3.Pressure9am.max().tolist()],\"Clasificación de presión\",\"Presión (Pascales)\",\"Presión Mínima y Máxima producida a las 9am\",\"Clasificación\",['#000'])"
   ]
  },
  {
   "cell_type": "markdown",
   "id": "10429471",
   "metadata": {},
   "source": [
    "_Nota Gráfico de barras \"Presión Mínima y Máxima producida a las 9am\"._\n",
    "### Se puede apreciar del gráfico de barras que la presión mínima medida en pascales producida a las 9 am es de 980.5 y la máxima de 1041.0, teniendo una diferencia de 60.5. "
   ]
  },
  {
   "cell_type": "code",
   "execution_count": null,
   "id": "d35b2c69",
   "metadata": {},
   "outputs": [],
   "source": [
    "getGraficoBarras2([\"Presión Mínima\",\"Presión Máxima\"],[df3.Pressure9am.min().tolist(), df3.Pressure9am.max().tolist()],\"Presión (Pascales)\",\"Clasificación\",\"Presión Mínima y Máxima producida a las 9am\")"
   ]
  },
  {
   "cell_type": "markdown",
   "id": "12007e24",
   "metadata": {},
   "source": [
    "_Nota Gráfico de barras Horizontal **\"Presión Mínima y Máxima producida a las 9am.\"**_\n",
    "### Del gráfico de barras horizontal se puede deducir que la presión máxima a las 9am es 1041.0 y la mínima fue de 980.5, teniendo una disparidad inferior a 100 pascales, con exactitud 60.5. "
   ]
  },
  {
   "cell_type": "markdown",
   "id": "77b972bb",
   "metadata": {},
   "source": [
    "### R: La diferencia de presión entre el rango mínimo y máximo que se produce a las 9am es de 60.5 pascales."
   ]
  },
  {
   "cell_type": "markdown",
   "id": "59abddb1",
   "metadata": {},
   "source": [
    "### 2. ¿Cuáles son las temperaturas mínimas y máximas que se producen a las 3pm?\n"
   ]
  },
  {
   "cell_type": "code",
   "execution_count": null,
   "id": "c4304329",
   "metadata": {},
   "outputs": [],
   "source": [
    "# Rango de temperaturas mínimas\n",
    "intervalo_min = df2.rango_temp_3pm.min()\n",
    "\n",
    "# Rango de temperaturas máximas\n",
    "intervalo_max = df2.rango_temp_3pm.max()\n",
    "\n",
    "# Temp min \n",
    "t_min = df3.Temp3pm.min()\n",
    "# Temp máx\n",
    "t_max = df3.Temp3pm.max()\n",
    "\n",
    "print(\"Temperatura Mínima registrada a las 3pm\", t_min,\"°C\")\n",
    "print(\"Temperatura Máxima registrada a las 3pm\", t_max,\"°C\")\n",
    "print(\"Intervalo de Temperaturas Mínimas registradas a las 3pm en el intervalo\", intervalo_min, \"equivalente a los -5.4 y -2.4 °C.\")\n",
    "print(\"Intervalo de Temperaturas Máximas registradas a las 3pm en el intervalo\", intervalo_max, \"equivalente a los 45.6 y 48.6 °C.\")\n"
   ]
  },
  {
   "cell_type": "code",
   "execution_count": null,
   "id": "0ef30e45",
   "metadata": {},
   "outputs": [],
   "source": [
    "getGraficoLineas1([\"Temperatura Mínima\",\"Temperatura Máxima\"],[t_min,t_max],\"Rangos de temperatura\",\"Temperatura °C\",\"Temperaturas mínimas y máximas registradas a las 3pm\")"
   ]
  },
  {
   "cell_type": "markdown",
   "id": "5eca29cc",
   "metadata": {},
   "source": [
    "Nota : Gráfico de línea \"temperaturas mínimas y máximas registradas a las 3pm\"\n",
    "### Lo que se puede inferir de este gráfico lineal, son las temperaturas mínimas y máximas registradas a las 3 pm. La menor estaría bajo 0, apuntando a -5.4 grados Celsius. La mayor es superior a 45 °C, reconociéndose en 46.7 grados Celsius. "
   ]
  },
  {
   "cell_type": "code",
   "execution_count": null,
   "id": "fd29a90c",
   "metadata": {},
   "outputs": [],
   "source": [
    "# Comprobar el número de temperaturas registradas en cada tramo\n",
    "df2['rango_temp_3pm'].value_counts().to_frame().style.background_gradient(cmap = 'summer_r')"
   ]
  },
  {
   "cell_type": "markdown",
   "id": "884987da",
   "metadata": {},
   "source": [
    "_Nota Tabla de calor **\"Cantidad de temperaturas registradas por rangos\".**_\n",
    "### De la tabla de calor se desprenden la cantidad de temperaturas registradas a las 3 pm, clasificadas en intervalos. El intervalo con mayor registro de ellas fue  el número 9 que corresponde a las temperaturas que se encuentran entre 21.6 °C y los 24.6 °C y el de menor sería el intervalo 17 con 8 observaciones en el rango de temperaturas entre los  45.6 y 48.6 grados celsius."
   ]
  },
  {
   "cell_type": "markdown",
   "id": "d82f2127",
   "metadata": {},
   "source": [
    "### R:  Según las estadísticas analizadas nos muestra que en la jornada de tarde de las 3pm se identifica una baja de -5.4 °C. Además, se observa que la temperatura máxima registrada a las 3pm en diversas localidades corresponde a 46.7 °C. La representación de la temperatura mínima estipulada a las 3pm equivale a un rango entre -5.4 y -2.4 °C, mientras que las temperaturas máximas ingresada a las 3pm equivale a un rango entre 45.6 °C y 48.6 °C. "
   ]
  },
  {
   "cell_type": "markdown",
   "id": "7a734a61",
   "metadata": {},
   "source": [
    "\n",
    "### ¿Cuántos días ha precipitado según la característica RainToday?\n"
   ]
  },
  {
   "cell_type": "code",
   "execution_count": null,
   "id": "5ce3219b",
   "metadata": {},
   "outputs": [],
   "source": [
    "# Contamos los días que llovió\n",
    "# 1 Representa presencia en \"YES\".\n",
    "total = df2.RainToday_Yes.count()\n",
    "\n",
    "cant_dias_si = df2[(df2.RainToday_Yes == 1)]['RainToday_Yes'].count()\n",
    "cant_dias_no = df2[(df2.RainToday_Yes == 0)]['RainToday_Yes'].count()\n",
    "print(\"Según la característica RainToday, llovieron \", cant_dias_si, \"días de los\",total,\"registrados.\")\n"
   ]
  },
  {
   "cell_type": "code",
   "execution_count": null,
   "id": "0d345543",
   "metadata": {},
   "outputs": [],
   "source": [
    "getGraficoPie1(df2,\"RainToday_Yes\",[\"No\",\"Sí\"],\"Precipitaciones\")"
   ]
  },
  {
   "cell_type": "markdown",
   "id": "d1913cfd",
   "metadata": {},
   "source": [
    "_Nota : Gráfico Pie **\"Precipitaciones.\"**_\n",
    "#### Del gráfico de torta o circular se puede deducir que, de los días registrados, en menos del 25% hubo precipitaciones, teniendo con exactitud un 22.1%. Junto a esto, más del 75% (77.9%) de ellos, no tuvieron lluvias."
   ]
  },
  {
   "cell_type": "markdown",
   "id": "25ca3261",
   "metadata": {},
   "source": [
    "### R: Según la característica RainToday, 31455 días de los 142193 registrados, tuvieron precipitaciones."
   ]
  },
  {
   "cell_type": "markdown",
   "id": "393960aa",
   "metadata": {},
   "source": [
    "### ¿Cuántas observaciones poseen las siguientes localidades ?\n",
    "\n",
    "- Portland\n",
    "- NorfolkIsland\n",
    "- Moree\n",
    "- Albany\n",
    "- Albury"
   ]
  },
  {
   "cell_type": "code",
   "execution_count": null,
   "id": "42f0fb38",
   "metadata": {},
   "outputs": [],
   "source": [
    "# Función que permite contar las observaciones según la localidad\n",
    "def cantidadObservaciones(location_encoder):\n",
    "    return df2[(df2.Location_encoder == location_encoder)]['Location_encoder'].count()\n",
    "\n",
    "\n",
    "portland = cantidadObservaciones(33)\n",
    "norfolkIsland = cantidadObservaciones(27)\n",
    "moree = cantidadObservaciones(21)\n",
    "albany = cantidadObservaciones(1)\n",
    "albury = cantidadObservaciones(2)\n",
    "\n",
    "\n",
    "print(\"========================================================================\")\n",
    "print(\" OBSERVACIONES POR LOCALIDAD\")\n",
    "print(\"========================================================================\")\n",
    "print(\"La localidad de portland tiene un registro de\", portland, \"observaciones.\")\n",
    "print(\"La localidad de norfolkIsland tiene un registro de\", norfolkIsland, \"observaciones.\")\n",
    "print(\"La localidad de moree tiene un registro de\", moree, \"observaciones.\")\n",
    "print(\"La localidad de albany tiene un registro de\", albany, \"observaciones.\")\n",
    "print(\"La localidad de albury tiene un registro de\", albury, \"observaciones.\")\n",
    "print(\"========================================================================\")\n"
   ]
  },
  {
   "cell_type": "code",
   "execution_count": null,
   "id": "f388503a",
   "metadata": {},
   "outputs": [],
   "source": [
    "registros = ['Portland','NorfolkIsland','Moree','Albany','Albury']\n",
    "listitaReg = []\n",
    "for x in range(len(registros)):\n",
    "    print(df3[(df3.Location == registros[x])][\"Location\"].count())\n",
    "    listitaReg.append(df3[(df3.Location == registros[x])][\"Location\"].count())\n",
    "\n",
    "getGraficoBarras1(registros, listitaReg,\"Localidades\",\"Cantidad de observaciones\",\"Cantidad de observaciones por localidad\",\"Localidades\",[\"#000\"])"
   ]
  },
  {
   "cell_type": "markdown",
   "id": "ca757ff0",
   "metadata": {},
   "source": [
    "_Nota de gráfico de barras **\"Cantidad de observaciones por localidad.\"**_\n",
    "### En el gráfico de barras se pueden visualizar las localidades y la cantidad de observaciones, donde se infiere que la localidad que tuvo más registros fue Canberra con un total de 3418. De la misma forma la que tuvo menos fue Uluru con 1521."
   ]
  },
  {
   "cell_type": "markdown",
   "id": "a8ed05e1",
   "metadata": {},
   "source": [
    "## R: Cantidad de observaciones por localidad \n",
    "- La localidad de Portland posee un registro de 2996 observaciones.\n",
    "- La localidad de NorfolkIsland dispone de un registro de 2964 observaciones.\n",
    "- La localidad de Moree goza de un registro de 2854 observaciones.\n",
    "- La localidad de Albany consta de un registro de 3016 observaciones.\n",
    "- La localidad de Albury conserva un registro de 3011 observaciones."
   ]
  },
  {
   "cell_type": "markdown",
   "id": "9988cfbe",
   "metadata": {},
   "source": [
    "## - Localidad con el mayor número de observaciones"
   ]
  },
  {
   "cell_type": "code",
   "execution_count": null,
   "id": "29a77553",
   "metadata": {},
   "outputs": [],
   "source": [
    "cantidad = df3.Location.value_counts().max()\n",
    "nombre = df3.Location.value_counts().idxmax()\n",
    "print(\"La localidad con el mayor número de observaciones es\", nombre, \"con un total de\",cantidad, \"registros.\")"
   ]
  },
  {
   "cell_type": "markdown",
   "id": "1a155548",
   "metadata": {},
   "source": [
    "### R: La localidad con el mayor número de observaciones es Canberra con un total de 3418 registros."
   ]
  },
  {
   "cell_type": "markdown",
   "id": "c1cd7939",
   "metadata": {},
   "source": [
    "## - Localidad con el menor número de observaciones."
   ]
  },
  {
   "cell_type": "code",
   "execution_count": null,
   "id": "dd7c9487",
   "metadata": {},
   "outputs": [],
   "source": [
    "cantidad = df3.Location.value_counts().min()\n",
    "nombre = df3.Location.value_counts().idxmin()\n",
    "print(\"La localidad con el menor número de observaciones es\", nombre, \"con un total de\",cantidad, \"registros.\")"
   ]
  },
  {
   "cell_type": "markdown",
   "id": "418779ec",
   "metadata": {},
   "source": [
    "### R: La localidad con el menor número de observaciones es Uluru con un total de 1521 registros."
   ]
  },
  {
   "cell_type": "markdown",
   "id": "07f1275f",
   "metadata": {},
   "source": [
    "## 3.2 Preguntas propuestas"
   ]
  },
  {
   "cell_type": "markdown",
   "id": "7deed214",
   "metadata": {},
   "source": [
    "#### ** Ver Anexo de excel **"
   ]
  },
  {
   "cell_type": "markdown",
   "id": "6cbb1b70",
   "metadata": {},
   "source": [
    "### Pregunta Nro. 1\n",
    "## Si hoy hubo precipitaciones, ¿Cuál es la probabilidad de que mañana también llueva?"
   ]
  },
  {
   "cell_type": "code",
   "execution_count": null,
   "id": "cadfb79e",
   "metadata": {},
   "outputs": [],
   "source": [
    "# Agrupamos todos los datos por RainToday y RainTomorrow.\n",
    "# indicamos una cabecera para distribuir los elementos como quiera y mostramos las cantidades\n",
    "dataRain = pd.DataFrame(df2.groupby(['RainToday_Yes','RainTomorrow_Yes'])['RainToday_Yes'].count())\n",
    "dataRain"
   ]
  },
  {
   "cell_type": "code",
   "execution_count": null,
   "id": "4ab96a5f",
   "metadata": {},
   "outputs": [],
   "source": [
    " # Respondiendo, gráficamente a: Si hoy hubo precipitaciones, ¿cuál es la probabilidad de que mañana también llueva?\n",
    "df_pie = pd.DataFrame(df2[df2.RainToday_Yes == 1].groupby(['RainToday_Yes','RainTomorrow_Yes'])['RainToday_Yes'].count())\n",
    "colores = [\"#EE6055\",\"#60D394\"]\n",
    "plt.pie(np.array(df_pie).ravel(), labels=[str(df_pie.index[0]) + \" Mañana no llueve\",str(df_pie.index[1]) + \" Mañana llueve\"],\n",
    "autopct='%1.1f%%', shadow=True, startangle=90, colors = colores)\n",
    "plt.title('Si hoy hubo precipitaciones, ¿cuál es la probabilidad de que mañana también llueva?')\n",
    "plt.show()"
   ]
  },
  {
   "cell_type": "markdown",
   "id": "aa63544a",
   "metadata": {},
   "source": [
    "_Nota Gráfico de Pie **\"Si hoy hubo precipitaciones, ¿Cuál es la probabilidad de que mañana también llueva?\".**_\n",
    "### Se puede observar según las estadísticas que la probabilidad de que se pronostiquen lluvias al día siguiente sabiendo que hoy precipitó es cercano al 50%."
   ]
  },
  {
   "cell_type": "markdown",
   "id": "d526297c",
   "metadata": {},
   "source": [
    "### R: La probabilidad de que al día siguiente llueva si hoy hubo precipitaciones es de un 46%."
   ]
  },
  {
   "cell_type": "markdown",
   "id": "2b4dc477",
   "metadata": {},
   "source": [
    "### Pregunta Nro. 2\n",
    "### ¿En qué localidad hubo más precipitaciones y en cuál hubo menos?"
   ]
  },
  {
   "cell_type": "code",
   "execution_count": null,
   "id": "11f5d0a1",
   "metadata": {},
   "outputs": [],
   "source": [
    "# Agrupamos por código de la locacion y dia de caundo hubo precipitación\n",
    "df_loc = pd.DataFrame(df2[df2.RainToday_Yes == 1].groupby(['Location_encoder','RainToday_Yes'])['RainToday_Yes'].count())\n",
    "\n",
    "# Obtenemos el ID de la locación con más precipitaciones y la con menos precipitaciones\n",
    "locaciones = [df_loc.idxmax(), df_loc.idxmin()]\n",
    "\n",
    "# Obtenemos la cantidad de días de la locación con más precipitaciones y la con menos precipitaciones.\n",
    "cant_p = [df_loc.max(),df_loc.min()]\n",
    "\n",
    "# Guardamos los datos de ambas locaciones\n",
    "datos = {'Locaciones':locaciones,'cant_dias_p':cant_p}\n",
    "\n",
    "df_loc = pd.DataFrame(data = datos)\n",
    "\n",
    "locaciones = []\n",
    "\n",
    "# Recorremos la serie para obtener el valor de la key de la localidad\n",
    "for x in df_loc.Locaciones.tolist():\n",
    "    locaciones.append(x[0][0])\n",
    "\n",
    "cant_p = []\n",
    "for x in df_loc.cant_dias_p.tolist():\n",
    "    cant_p.append(x[0])\n",
    "\n",
    "# Guardamos los datos de ambas locaciones\n",
    "datos = {'Locaciones':locaciones,'cant_dias_p':cant_p}\n",
    "\n",
    "# 33\tPortland\n",
    "# 41\tUluru\n",
    "df_loc = pd.DataFrame(data = datos)\n",
    "df_loc"
   ]
  },
  {
   "cell_type": "code",
   "execution_count": null,
   "id": "21ac9b52",
   "metadata": {},
   "outputs": [],
   "source": [
    "# Extraemos los nombres con las claves obtenidas\n",
    "key_1 = locaciones[0]\n",
    "locaciones[0] = data.query(\"Clave==@key_1\")[\"Valor\"].values.tolist()[0]\n",
    "key_2 = locaciones[1]\n",
    "locaciones[1] = data.query(\"Clave==@key_2\")[\"Valor\"].values.tolist()[0]\n",
    "locaciones\n",
    "\n",
    "# Guardamos los datos de ambas locaciones\n",
    "datos = {'Locaciones':locaciones,'cant_dias_p':cant_p}\n",
    "\n",
    "# 33\tPortland\n",
    "# 41\tUluru\n",
    "df_loc = pd.DataFrame(data = datos)\n",
    "df_loc"
   ]
  },
  {
   "cell_type": "code",
   "execution_count": null,
   "id": "6acaa9ac",
   "metadata": {},
   "outputs": [],
   "source": [
    "getGraficoBarras1(locaciones,cant_p,\"Localidades\",\"Precipitaciones (Días)\",\"¿En qué localidad hubo más precipitaciones y en cuál hubo menos?\",\"Localidades\",[\"#000\"])"
   ]
  },
  {
   "cell_type": "markdown",
   "id": "724a2f4b",
   "metadata": {},
   "source": [
    "_Nota Gráfico **\"En qué localidad hubo más precipitaciones y en cuál hubo menos?\"**_\n",
    "#### En el gráfico de barras se visualiza las localidades más y menos lluviosas, teniendo por un lado al estado de Portland y Uluru Respectivamente."
   ]
  },
  {
   "cell_type": "markdown",
   "id": "254edba6",
   "metadata": {},
   "source": [
    "### R: En la localidad que hubo más precipitaciones registradas corresponden a Portland con un total de 1088 días, mientras en el estado de Uluru no sobrepasa los 113 días."
   ]
  },
  {
   "cell_type": "markdown",
   "id": "a9e9800c",
   "metadata": {},
   "source": [
    "### Pregunta Nro. 3\n",
    "### ¿Cuál es el promedio de humedad del aire a las 9am en las localidades de Portland y Uluru?"
   ]
  },
  {
   "cell_type": "code",
   "execution_count": null,
   "id": "63b49096",
   "metadata": {},
   "outputs": [],
   "source": [
    "# Agrupamos por el nombre de la localidad y sacamos el promedio de las 2 localidades indicadas.\n",
    "df_hum = pd.DataFrame(df3[(df3.Location == \"Portland\") | (df3.Location== \"Uluru\")].groupby(['Location'])['Humidity9am'].mean())\n",
    "df_hum"
   ]
  },
  {
   "cell_type": "code",
   "execution_count": null,
   "id": "07e012b0",
   "metadata": {},
   "outputs": [],
   "source": [
    "list_hum = [df_hum.Humidity9am[0], df_hum.Humidity9am[1]]\n",
    "list_loc = [df_hum.Humidity9am.index[0], df_hum.Humidity9am.index[1]]\n",
    "\n",
    "getGraficoBarras1(list_loc,list_hum,\"Localidades\",\"Humedad del aire (g/m3)\",\"Promedio de humedad del aire a las 9am en Portland y Uluru\",\"Localidades\",\"#000\")"
   ]
  },
  {
   "cell_type": "markdown",
   "id": "21988866",
   "metadata": {},
   "source": [
    "_Nota Gráfico **\"Promedio de humedad del aire a las 9am en Portland y Uluru\"**_\n",
    "#### Se puede inferir que en promedio la humedad del aire a las 9 am en la localidad de Portland es superior a los 70 (g/m3), en cambio en el estado de Uluru no supera los 50 (g/m3)."
   ]
  },
  {
   "cell_type": "markdown",
   "id": "dbccf514",
   "metadata": {},
   "source": [
    "### R : En promedio la humedad del aire en el estado de Portland es de 78.5 (g/m3) y en la localidad de Uluru es de 42.4 (g/m3)."
   ]
  },
  {
   "cell_type": "markdown",
   "id": "3af50bc0",
   "metadata": {},
   "source": [
    "### 4 Exportamos el dataset procesado a un archivo"
   ]
  },
  {
   "cell_type": "code",
   "execution_count": null,
   "id": "19cf7b3c",
   "metadata": {},
   "outputs": [],
   "source": [
    "# Exportamos nuestro archivo a csv\n",
    "df2.to_csv('./archivos_exportados/Cleaning_climate.csv')\n",
    "\n",
    "# Exportamos nuestro archivo a excel\n",
    "df2.to_excel('./archivos_exportados/Cleaning_climate_excel.xlsx')"
   ]
  }
 ],
 "metadata": {
  "interpreter": {
   "hash": "d97bbc93b72391ca43664d0ff9b24d15f14a62133b4712aa17ee243bf9dfa2b9"
  },
  "kernelspec": {
   "display_name": "desafio",
   "language": "python",
   "name": "desafio"
  },
  "language_info": {
   "codemirror_mode": {
    "name": "ipython",
    "version": 3
   },
   "file_extension": ".py",
   "mimetype": "text/x-python",
   "name": "python",
   "nbconvert_exporter": "python",
   "pygments_lexer": "ipython3",
   "version": "3.6.10"
  }
 },
 "nbformat": 4,
 "nbformat_minor": 5
}
